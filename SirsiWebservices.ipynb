{
 "cells": [
  {
   "cell_type": "code",
   "execution_count": null,
   "metadata": {},
   "outputs": [],
   "source": [
    "import requests\n",
    "import json\n",
    "import getpass\n",
    "from urllib.parse import quote"
   ]
  },
  {
   "cell_type": "code",
   "execution_count": null,
   "metadata": {},
   "outputs": [],
   "source": []
  },
  {
   "cell_type": "code",
   "execution_count": null,
   "metadata": {},
   "outputs": [],
   "source": [
    "s = requests.session()"
   ]
  },
  {
   "cell_type": "code",
   "execution_count": null,
   "metadata": {
    "scrolled": true
   },
   "outputs": [],
   "source": [
    "baseWsURL = 'https://lalu.sirsi.net/lalu_ilsws/rest'\n",
    "clientID = 'DS_CLIENT'\n",
    "\n",
    "with open('credentials.txt', 'r') as f:\n",
    "    parsed_json = json.loads(f.read())\n",
    "    username, password = None, None\n",
    "#     username, password = parsed_json.get('user'), parsed_json.get('pass')\n",
    "    if username and password:\n",
    "        admin_login_data = {\n",
    "            'baseWsURL': baseWsURL,\n",
    "            'clientID': clientID,\n",
    "            'login': username,\n",
    "            'password': password,\n",
    "        }\n",
    "    else:\n",
    "        admin_login_data = {\n",
    "            'baseWsURL': baseWsURL,\n",
    "            'clientID': clientID,\n",
    "            'login': input('what is your Sirsi Workflow username? '),\n",
    "            'password': getpass.getpass('what is your Sirsi Workflow password? '),\n",
    "        }       "
   ]
  },
  {
   "cell_type": "code",
   "execution_count": null,
   "metadata": {},
   "outputs": [],
   "source": [
    "login_endpoint = \"{}/security/loginUser?clientID={}&login={}&password={}&json=True\".format(\n",
    "    admin_login_data['baseWsURL'],\n",
    "    admin_login_data['clientID'],\n",
    "    admin_login_data['login'],\n",
    "    admin_login_data['password'],\n",
    ")"
   ]
  },
  {
   "cell_type": "code",
   "execution_count": null,
   "metadata": {},
   "outputs": [],
   "source": [
    "r = s.post(login_endpoint)"
   ]
  },
  {
   "cell_type": "code",
   "execution_count": null,
   "metadata": {},
   "outputs": [],
   "source": [
    "login_json = json.loads(r.content)"
   ]
  },
  {
   "cell_type": "code",
   "execution_count": null,
   "metadata": {},
   "outputs": [],
   "source": [
    "login_json"
   ]
  },
  {
   "cell_type": "code",
   "execution_count": null,
   "metadata": {},
   "outputs": [],
   "source": []
  },
  {
   "cell_type": "markdown",
   "metadata": {},
   "source": [
    "# This example works #"
   ]
  },
  {
   "cell_type": "code",
   "execution_count": null,
   "metadata": {},
   "outputs": [],
   "source": [
    "arguments = {\n",
    "    'sessionToken': login_json['sessionToken'],\n",
    "    'json': True\n",
    "}"
   ]
  },
  {
   "cell_type": "code",
   "execution_count": null,
   "metadata": {},
   "outputs": [],
   "source": [
    "url = 'https://lalu.sirsi.net/lalu_ilsws/rest/security/lookupSessionInfo'\n",
    "url = '{}?clientID={}'.format(url, clientID)\n",
    "for k, v in arguments.items():\n",
    "    url += '&{}={}'.format(k, v)"
   ]
  },
  {
   "cell_type": "code",
   "execution_count": null,
   "metadata": {},
   "outputs": [],
   "source": [
    "print(url)\n",
    "r = s.post(url)\n",
    "r.content"
   ]
  },
  {
   "cell_type": "code",
   "execution_count": null,
   "metadata": {},
   "outputs": [],
   "source": []
  },
  {
   "cell_type": "markdown",
   "metadata": {},
   "source": [
    "# This example works too #"
   ]
  },
  {
   "cell_type": "code",
   "execution_count": null,
   "metadata": {},
   "outputs": [],
   "source": [
    "arguments = {\n",
    "    'sessionToken': login_json['sessionToken'],\n",
    "    'json': True\n",
    "}"
   ]
  },
  {
   "cell_type": "code",
   "execution_count": null,
   "metadata": {},
   "outputs": [],
   "source": [
    "service = 'security'\n",
    "command = 'lookupSessionInfo'"
   ]
  },
  {
   "cell_type": "code",
   "execution_count": null,
   "metadata": {},
   "outputs": [],
   "source": [
    "service = 'standard'\n",
    "command = 'version'"
   ]
  },
  {
   "cell_type": "code",
   "execution_count": null,
   "metadata": {},
   "outputs": [],
   "source": [
    "url = f'https://lalu.sirsi.net/lalu_ilsws/rest/{service}/{command}?clientID={clientID}'"
   ]
  },
  {
   "cell_type": "code",
   "execution_count": null,
   "metadata": {},
   "outputs": [],
   "source": [
    "response = requests.post(url, params=arguments)"
   ]
  },
  {
   "cell_type": "code",
   "execution_count": null,
   "metadata": {},
   "outputs": [],
   "source": [
    "response.url"
   ]
  },
  {
   "cell_type": "code",
   "execution_count": null,
   "metadata": {},
   "outputs": [],
   "source": [
    "response.content"
   ]
  },
  {
   "cell_type": "code",
   "execution_count": null,
   "metadata": {},
   "outputs": [],
   "source": []
  },
  {
   "cell_type": "markdown",
   "metadata": {},
   "source": [
    "# So does this one #"
   ]
  },
  {
   "cell_type": "code",
   "execution_count": null,
   "metadata": {},
   "outputs": [],
   "source": [
    "arguments = {\n",
    "    'clientID': clientID,\n",
    "    'sessionToken': login_json['sessionToken'],\n",
    "    'json': True,\n",
    "}"
   ]
  },
  {
   "cell_type": "code",
   "execution_count": null,
   "metadata": {},
   "outputs": [],
   "source": [
    "# searchCatalog is the old Advanced Search\n",
    "arguments.update({\n",
    "    'term1': 'Man High Castle',\n",
    "    'searchType1': 'TITLE', # acceptable:  GENERAL, TITLE, AUTHOR, SUBJECT, SERIES, PERTITLE,\n",
    "    'operator1': 'AND',\n",
    "    'term2': 'Philip',\n",
    "    'searchType2': 'AUTHOR',\n",
    "    'operator2': 'AND',\n",
    "    'term3': 'Man High Castle',\n",
    "    'searchType3': 'GENERAL',\n",
    "    'operator3': 'OR',\n",
    "    'term4': 'Japan',\n",
    "    'searchType4': 'SUBJECT',\n",
    "    'operator4': 'OR',\n",
    "})\n",
    "service = 'standard'\n",
    "command = 'searchCatalog'"
   ]
  },
  {
   "cell_type": "code",
   "execution_count": null,
   "metadata": {},
   "outputs": [],
   "source": [
    "service = 'security'\n",
    "command = 'lookupSessionInfo'"
   ]
  },
  {
   "cell_type": "code",
   "execution_count": null,
   "metadata": {},
   "outputs": [],
   "source": [
    "arguments.update({\n",
    "    'titleID': 1098704,\n",
    "    'includeItemInfo': True,\n",
    "    'includeCatalogingInfo': True,\n",
    "    'includeAvailabilityInfo': True,\n",
    "    'includeMarcHoldings': True,\n",
    "})\n",
    "\n",
    "service = 'standard'\n",
    "command = 'lookupTitleInfo'"
   ]
  },
  {
   "cell_type": "code",
   "execution_count": null,
   "metadata": {},
   "outputs": [],
   "source": [
    "arguments.update({\n",
    "    'userID': 'GARRETT',\n",
    "    'includeAccountability': True,\n",
    "    'includeAllowedCommands': True,\n",
    "})\n",
    "service = 'security'\n",
    "command = 'lookupUserInfo'"
   ]
  },
  {
   "cell_type": "code",
   "execution_count": null,
   "metadata": {},
   "outputs": [],
   "source": [
    "arguments.update({\n",
    "    'itemID': 31518100550437,\n",
    "    'browseSize': '15',\n",
    "})\n",
    "service = 'circulation'\n",
    "command = 'browseCallShelf'"
   ]
  },
  {
   "cell_type": "code",
   "execution_count": null,
   "metadata": {},
   "outputs": [],
   "source": [
    "arguments.update({\n",
    "    'itemID': 31518100550437,\n",
    "})\n",
    "service = 'circulation'\n",
    "command = 'lookupItemStatus'"
   ]
  },
  {
   "cell_type": "code",
   "execution_count": null,
   "metadata": {},
   "outputs": [],
   "source": [
    "arguments.update({\n",
    "    'browseType': 'COURSE_NAME',\n",
    "})\n",
    "service = 'reserve'\n",
    "command = 'browseReserve'"
   ]
  },
  {
   "cell_type": "code",
   "execution_count": null,
   "metadata": {},
   "outputs": [],
   "source": [
    "# the course reserve lookup fails\n",
    "arguments.update({\n",
    "    'userID': 'GARRETT',\n",
    "    'courseID': 'AAAS 2000',\n",
    "})\n",
    "service = 'reserve'\n",
    "command = 'lookupReserve'"
   ]
  },
  {
   "cell_type": "code",
   "execution_count": null,
   "metadata": {
    "scrolled": true
   },
   "outputs": [],
   "source": [
    "url = f'https://lalu.sirsi.net/lalu_ilsws/rest/{service}/{command}'\n",
    "response = requests.post(url, params=arguments)\n",
    "print(response.url)\n",
    "print(response.text)"
   ]
  },
  {
   "cell_type": "code",
   "execution_count": null,
   "metadata": {},
   "outputs": [],
   "source": []
  },
  {
   "cell_type": "markdown",
   "metadata": {},
   "source": [
    "# this is an old one #"
   ]
  },
  {
   "cell_type": "code",
   "execution_count": null,
   "metadata": {},
   "outputs": [],
   "source": [
    "baseWsURL = 'https://lalu.sirsi.net/lalu_ilsws'\n",
    "clientID = 'DS_CLIENT'\n",
    "# catKey = '2805471' # Gay Butler Plater\n",
    "catKey = '316195' # Korea Journal\n",
    "\n",
    "my_cross_domain_javascript_method = None\n",
    "my_cross_domain_data = None\n",
    "\n",
    "jsonp_options = {'json': 'true',\n",
    "                'prettyprint': 'false',\n",
    "                'callback': my_cross_domain_javascript_method,\n",
    "                'jsonPost': my_cross_domain_data,\n",
    "                }\n",
    "\n",
    "options = {\"includeAvailabilityInfo\": \"true\",\n",
    "    \"includeCallNumberSummary\": \"true\",\n",
    "    \"includeItemInfo\": \"true\",\n",
    "    \"includeCatalogingInfo\": \"true\",\n",
    "    \"includeOrderInfo\": \"true\",\n",
    "    \"includeOPACInfo\": \"true\",\n",
    "    \"includeBoundTogether\": \"true\",\n",
    "    \"includeMarcHoldings\": \"true\",\n",
    "    \"marcEntryFilter\": \"ALL\",\n",
    "    \"json\": \"true\"}\n",
    "detail_template = \"\"\"{baseWsURL}/rest/standard/lookupTitleInfo?clientID={clientID}&titleID={catKey}\"\"\"\n",
    "url_options = \"\".join('&{}={}'.format(k, v) for k, v in options.items())\n",
    "detail_template += url_options\n",
    "detail_url = detail_template.format(baseWsURL=baseWsURL,\n",
    "                 clientID=clientID,\n",
    "                 catKey=catKey)\n",
    "print(detail_url)"
   ]
  },
  {
   "cell_type": "code",
   "execution_count": null,
   "metadata": {
    "scrolled": true
   },
   "outputs": [],
   "source": [
    "response = requests.post(detail_url)\n",
    "# response.text"
   ]
  },
  {
   "cell_type": "code",
   "execution_count": null,
   "metadata": {},
   "outputs": [],
   "source": [
    "response.text"
   ]
  },
  {
   "cell_type": "code",
   "execution_count": null,
   "metadata": {},
   "outputs": [],
   "source": []
  }
 ],
 "metadata": {
  "kernelspec": {
   "display_name": "Python 3",
   "language": "python",
   "name": "python3"
  },
  "language_info": {
   "codemirror_mode": {
    "name": "ipython",
    "version": 3
   },
   "file_extension": ".py",
   "mimetype": "text/x-python",
   "name": "python",
   "nbconvert_exporter": "python",
   "pygments_lexer": "ipython3",
   "version": "3.6.6"
  }
 },
 "nbformat": 4,
 "nbformat_minor": 2
}
