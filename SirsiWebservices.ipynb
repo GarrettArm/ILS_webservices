{
 "cells": [
  {
   "cell_type": "code",
   "execution_count": null,
   "metadata": {},
   "outputs": [],
   "source": [
    "import requests\n",
    "import json\n",
    "import getpass\n",
    "from urllib.parse import quote"
   ]
  },
  {
   "cell_type": "code",
   "execution_count": null,
   "metadata": {},
   "outputs": [],
   "source": [
    "def do_a_lookup(service, command, payload):\n",
    "    url = f'https://lalu.sirsi.net/lalu_ilsws/rest/{service}/{command}'\n",
    "    response = requests.post(url, data=payload)\n",
    "    print(response.url)\n",
    "    print(response.text)\n",
    "    return response"
   ]
  },
  {
   "cell_type": "code",
   "execution_count": null,
   "metadata": {},
   "outputs": [],
   "source": [
    "s = requests.session()"
   ]
  },
  {
   "cell_type": "code",
   "execution_count": null,
   "metadata": {
    "scrolled": true
   },
   "outputs": [],
   "source": [
    "baseWsURL = 'https://lalu.sirsi.net/lalu_ilsws/rest'\n",
    "clientID = 'DS_CLIENT'\n",
    "username = input('what is your Sirsi Workflow username? ')\n",
    "password = getpass.getpass('what is your Sirsi Workflow password? ')       "
   ]
  },
  {
   "cell_type": "code",
   "execution_count": null,
   "metadata": {},
   "outputs": [],
   "source": [
    "service = \"security\"\n",
    "command = \"loginUser\"\n",
    "payload = {\n",
    "    \"login\": username,\n",
    "    \"password\": password,\n",
    "    \"clientID\": clientID,\n",
    "    \"json\": True\n",
    "}\n",
    "\n",
    "response = do_a_lookup(service=service, command=command, payload=payload)\n",
    "\n",
    "session_json = json.loads(response.content)\n",
    "session_token = session_json['sessionToken']\n",
    "print(session_token)"
   ]
  },
  {
   "cell_type": "code",
   "execution_count": null,
   "metadata": {},
   "outputs": [],
   "source": [
    "service = \"security\"\n",
    "command = \"lookupSessionInfo\"\n",
    "payload = {\n",
    "    'sessionToken': session_token,\n",
    "    'json': True,\n",
    "    'clientID': clientID\n",
    "}\n",
    "\n",
    "do_a_lookup(service=service, command=command, payload=payload)"
   ]
  },
  {
   "cell_type": "code",
   "execution_count": null,
   "metadata": {},
   "outputs": [],
   "source": [
    "service = \"standard\"\n",
    "command = \"version\"\n",
    "payload = {\n",
    "    'sessionToken': session_token,\n",
    "    'json': True,\n",
    "    'clientID': clientID\n",
    "}\n",
    "\n",
    "do_a_lookup(service=service, command=command, payload=payload)"
   ]
  },
  {
   "cell_type": "code",
   "execution_count": null,
   "metadata": {},
   "outputs": [],
   "source": [
    "# searchCatalog is the old Advanced Search\n",
    "\n",
    "service = 'standard'\n",
    "command = 'searchCatalog'\n",
    "payload = {\n",
    "    'clientID': clientID,\n",
    "    'sessionToken': session_token,\n",
    "    'json': True,\n",
    "    'term1': \"Introduction To Semiconductor Devices\",\n",
    "    'searchType1': 'TITLE', # acceptable:  GENERAL, TITLE, AUTHOR, SUBJECT, SERIES, PERTITLE,\n",
    "    'operator1': 'AND',\n",
    "    'term2': 'Neamen',\n",
    "    'searchType2': 'AUTHOR',\n",
    "#     'operator2': 'AND',\n",
    "#     'term3': 'Man High Castle',\n",
    "#     'searchType3': 'GENERAL',\n",
    "#     'operator3': 'OR',\n",
    "#     'term4': 'Japan',\n",
    "#     'searchType4': 'SUBJECT',\n",
    "#     'operator4': 'OR',\n",
    "}\n",
    "\n",
    "do_a_lookup(service=service, command=command, payload=payload)"
   ]
  },
  {
   "cell_type": "code",
   "execution_count": null,
   "metadata": {},
   "outputs": [],
   "source": [
    "service = 'security'\n",
    "command = 'lookupSessionInfo'\n",
    "payload = {\n",
    "    'clientID': clientID,\n",
    "    'sessionToken': session_token,\n",
    "    'json': True,\n",
    "}\n",
    "\n",
    "do_a_lookup(service=service, command=command, payload=payload)"
   ]
  },
  {
   "cell_type": "code",
   "execution_count": null,
   "metadata": {},
   "outputs": [],
   "source": [
    "service = 'standard'\n",
    "command = 'lookupTitleInfo'\n",
    "payload = {\n",
    "    'clientID': clientID,\n",
    "    'sessionToken': session_token,\n",
    "    'json': True,\n",
    "    'titleID': 4104684,\n",
    "    'includeItemInfo': True,\n",
    "    'includeCatalogingInfo': True,\n",
    "    'includeAvailabilityInfo': True,\n",
    "    'includeMarcHoldings': True,\n",
    "}\n",
    "\n",
    "do_a_lookup(service=service, command=command, payload=payload)"
   ]
  },
  {
   "cell_type": "code",
   "execution_count": null,
   "metadata": {},
   "outputs": [],
   "source": [
    "service = 'security'\n",
    "command = 'lookupUserInfo'\n",
    "payload = {\n",
    "    'clientID': clientID,\n",
    "    'sessionToken': session_json['sessionToken'],\n",
    "    'json': True,\n",
    "    'userID': 'GARRETT',\n",
    "    'includeAccountability': True,\n",
    "    'includeAllowedCommands': True,\n",
    "}\n",
    "\n",
    "do_a_lookup(service=service, command=command, payload=payload)"
   ]
  },
  {
   "cell_type": "code",
   "execution_count": null,
   "metadata": {},
   "outputs": [],
   "source": [
    "service = 'circulation'\n",
    "command = 'browseCallShelf'\n",
    "payload = {\n",
    "    'clientID': clientID,\n",
    "    'sessionToken': session_token,\n",
    "    'json': True,\n",
    "    'itemID': 31518100550437,\n",
    "    'browseSize': '15',\n",
    "}\n",
    "\n",
    "do_a_lookup(service=service, command=command, payload=payload)"
   ]
  },
  {
   "cell_type": "code",
   "execution_count": null,
   "metadata": {},
   "outputs": [],
   "source": [
    "service = 'circulation'\n",
    "command = 'lookupItemStatus'\n",
    "payload = {\n",
    "    'clientID': clientID,\n",
    "    'sessionToken': session_json['sessionToken'],\n",
    "    'json': True,\n",
    "    'itemID': 31518100550437,\n",
    "}\n",
    "\n",
    "do_a_lookup(service=service, command=command, payload=payload)"
   ]
  },
  {
   "cell_type": "code",
   "execution_count": null,
   "metadata": {},
   "outputs": [],
   "source": [
    "service = 'reserve'\n",
    "command = 'browseReserve'\n",
    "payload = {\n",
    "    'clientID': clientID,\n",
    "    'sessionToken': session_json['sessionToken'],\n",
    "    'json': True,\n",
    "    'browseType': 'COURSE_NAME',\n",
    "}\n",
    "\n",
    "do_a_lookup(service=service, command=command, payload=payload)"
   ]
  },
  {
   "cell_type": "code",
   "execution_count": null,
   "metadata": {},
   "outputs": [],
   "source": [
    "# the course reserve lookup fails (possibly because the user has no reserved items for this course)\n",
    "\n",
    "service = 'reserve'\n",
    "command = 'lookupReserve'\n",
    "payload = {\n",
    "    'clientID': clientID,\n",
    "    'sessionToken': session_json['sessionToken'],\n",
    "    'json': True,\n",
    "    'userID': '62721007773307300',\n",
    "    'courseID': 'AAAS 2000',\n",
    "}\n",
    "\n",
    "do_a_lookup(service=service, command=command, payload=payload)"
   ]
  },
  {
   "cell_type": "code",
   "execution_count": null,
   "metadata": {},
   "outputs": [],
   "source": [
    "userid = '62721007773307300'\n",
    "\n",
    "service = 'patron'\n",
    "command = 'lookupPatronInfo'\n",
    "endpoint = f\"https://lalu.sirsi.net/lalu_ilsws/rest/patron/lookupPatronInfo?clientID=DS_CLIENT&includePatronStatusInfo=True&includePatronInfo=True&json=True\"\n",
    "payload = {\n",
    "    \"clientID\": clientID,\n",
    "    \"sessionToken\": session_token,\n",
    "    \"json\": True,\n",
    "    \"userID\": userid,\n",
    "    \"includePatronInfo\": True,\n",
    "    \"includePatronStatusInfo\": True\n",
    "}\n",
    "\n",
    "do_a_lookup(service=service, command=command, payload=payload)"
   ]
  }
 ],
 "metadata": {
  "kernelspec": {
   "display_name": "Python 3",
   "language": "python",
   "name": "python3"
  },
  "language_info": {
   "codemirror_mode": {
    "name": "ipython",
    "version": 3
   },
   "file_extension": ".py",
   "mimetype": "text/x-python",
   "name": "python",
   "nbconvert_exporter": "python",
   "pygments_lexer": "ipython3",
   "version": "3.7.5"
  }
 },
 "nbformat": 4,
 "nbformat_minor": 2
}
