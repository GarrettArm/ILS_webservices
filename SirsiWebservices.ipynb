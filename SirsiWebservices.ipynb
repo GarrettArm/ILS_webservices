{
 "cells": [
  {
   "cell_type": "code",
   "execution_count": null,
   "metadata": {},
   "outputs": [],
   "source": [
    "import requests\n",
    "import json\n",
    "import getpass\n",
    "from urllib.parse import quote"
   ]
  },
  {
   "cell_type": "code",
   "execution_count": null,
   "metadata": {},
   "outputs": [],
   "source": []
  },
  {
   "cell_type": "code",
   "execution_count": null,
   "metadata": {},
   "outputs": [],
   "source": [
    "s = requests.session()"
   ]
  },
  {
   "cell_type": "code",
   "execution_count": null,
   "metadata": {
    "scrolled": true
   },
   "outputs": [],
   "source": [
    "baseWsURL = 'https://lalu.sirsi.net/lalu_ilsws/rest'\n",
    "clientID = 'DS_CLIENT'\n",
    "\n",
    "# with open('credentials.txt', 'r') as f:\n",
    "#     parsed_json = json.loads(f.read())\n",
    "#     username, password = parsed_json.get('user'), parsed_json.get('pass')\n",
    "#     if username and password:\n",
    "#         admin_login_data = {\n",
    "#             'baseWsURL': baseWsURL,\n",
    "#             'clientID': clientID,\n",
    "#             'login': username,\n",
    "#             'password': password,\n",
    "#         }\n",
    "#     else:\n",
    "admin_login_data = {\n",
    "    'baseWsURL': baseWsURL,\n",
    "    'clientID': clientID,\n",
    "    'login': input('what is your Sirsi Workflow username? '),\n",
    "    'password': getpass.getpass('what is your Sirsi Workflow password? '),\n",
    "}       "
   ]
  },
  {
   "cell_type": "code",
   "execution_count": null,
   "metadata": {},
   "outputs": [],
   "source": [
    "login_endpoint = \"{}/security/loginUser?clientID={}&login={}&password={}&json=True\".format(\n",
    "    admin_login_data['baseWsURL'],\n",
    "    admin_login_data['clientID'],\n",
    "    admin_login_data['login'],\n",
    "    admin_login_data['password'],\n",
    ")"
   ]
  },
  {
   "cell_type": "code",
   "execution_count": null,
   "metadata": {},
   "outputs": [],
   "source": [
    "r = s.post(login_endpoint)\n",
    "session_json = json.loads(r.content)\n",
    "print(session_json)"
   ]
  },
  {
   "cell_type": "markdown",
   "metadata": {},
   "source": [
    "# This example works #"
   ]
  },
  {
   "cell_type": "code",
   "execution_count": null,
   "metadata": {},
   "outputs": [],
   "source": [
    "arguments = {\n",
    "    'sessionToken': session_json['sessionToken'],\n",
    "    'json': True\n",
    "}"
   ]
  },
  {
   "cell_type": "code",
   "execution_count": null,
   "metadata": {},
   "outputs": [],
   "source": [
    "url = 'https://lalu.sirsi.net/lalu_ilsws/rest/security/lookupSessionInfo'\n",
    "url = '{}?clientID={}'.format(url, clientID)\n",
    "for k, v in arguments.items():\n",
    "    url += '&{}={}'.format(k, v)"
   ]
  },
  {
   "cell_type": "code",
   "execution_count": null,
   "metadata": {},
   "outputs": [],
   "source": [
    "print(url)\n",
    "r = s.post(url)\n",
    "r.text"
   ]
  },
  {
   "cell_type": "markdown",
   "metadata": {},
   "source": [
    "# This example works too #"
   ]
  },
  {
   "cell_type": "code",
   "execution_count": null,
   "metadata": {},
   "outputs": [],
   "source": [
    "def do_a_lookup(service, command, arguments):\n",
    "    url = f'https://lalu.sirsi.net/lalu_ilsws/rest/{service}/{command}?clientID={clientID}'\n",
    "    response = requests.post(url, params=arguments)\n",
    "    print(response.url)\n",
    "    print(response.text)"
   ]
  },
  {
   "cell_type": "code",
   "execution_count": null,
   "metadata": {},
   "outputs": [],
   "source": [
    "arguments = {\n",
    "    'sessionToken': session_json['sessionToken'],\n",
    "    'json': True\n",
    "}"
   ]
  },
  {
   "cell_type": "code",
   "execution_count": null,
   "metadata": {},
   "outputs": [],
   "source": [
    "do_a_lookup(service='security', command='lookupSessionInfo', arguments=arguments)"
   ]
  },
  {
   "cell_type": "code",
   "execution_count": null,
   "metadata": {},
   "outputs": [],
   "source": [
    "do_a_lookup(service='standard', command='version', arguments=arguments)"
   ]
  },
  {
   "cell_type": "markdown",
   "metadata": {},
   "source": [
    "# So do these#"
   ]
  },
  {
   "cell_type": "code",
   "execution_count": null,
   "metadata": {},
   "outputs": [],
   "source": [
    "def do_more_specific_one(service, command, arguments):\n",
    "    url = f'https://lalu.sirsi.net/lalu_ilsws/rest/{service}/{command}'\n",
    "    response = requests.post(url, params=arguments)\n",
    "    print(response.url)\n",
    "    print(response.text)"
   ]
  },
  {
   "cell_type": "code",
   "execution_count": null,
   "metadata": {},
   "outputs": [],
   "source": [
    "# searchCatalog is the old Advanced Search\n",
    "\n",
    "arguments = {\n",
    "    'clientID': clientID,\n",
    "    'sessionToken': session_json['sessionToken'],\n",
    "    'json': True,\n",
    "}\n",
    "\n",
    "arguments.update({\n",
    "    'term1': 'Man High Castle',\n",
    "    'searchType1': 'TITLE', # acceptable:  GENERAL, TITLE, AUTHOR, SUBJECT, SERIES, PERTITLE,\n",
    "    'operator1': 'AND',\n",
    "    'term2': 'Philip',\n",
    "    'searchType2': 'AUTHOR',\n",
    "    'operator2': 'AND',\n",
    "    'term3': 'Man High Castle',\n",
    "    'searchType3': 'GENERAL',\n",
    "    'operator3': 'OR',\n",
    "    'term4': 'Japan',\n",
    "    'searchType4': 'SUBJECT',\n",
    "    'operator4': 'OR',\n",
    "})\n",
    "\n",
    "service = 'standard'\n",
    "command = 'searchCatalog'\n",
    "\n",
    "do_more_specific_one(service=service, command=command, arguments=arguments)"
   ]
  },
  {
   "cell_type": "code",
   "execution_count": null,
   "metadata": {},
   "outputs": [],
   "source": [
    "arguments = {\n",
    "    'clientID': clientID,\n",
    "    'sessionToken': session_json['sessionToken'],\n",
    "    'json': True,\n",
    "}\n",
    "\n",
    "service = 'security'\n",
    "command = 'lookupSessionInfo'\n",
    "\n",
    "do_more_specific_one(service=service, command=command, arguments=arguments)"
   ]
  },
  {
   "cell_type": "code",
   "execution_count": null,
   "metadata": {},
   "outputs": [],
   "source": [
    "arguments = {\n",
    "    'clientID': clientID,\n",
    "    'sessionToken': session_json['sessionToken'],\n",
    "    'json': True,\n",
    "}\n",
    "\n",
    "arguments.update({\n",
    "    'titleID': 1098704,\n",
    "    'includeItemInfo': True,\n",
    "    'includeCatalogingInfo': True,\n",
    "    'includeAvailabilityInfo': True,\n",
    "    'includeMarcHoldings': True,\n",
    "})\n",
    "\n",
    "service = 'standard'\n",
    "command = 'lookupTitleInfo'\n",
    "\n",
    "do_more_specific_one(service=service, command=command, arguments=arguments)"
   ]
  },
  {
   "cell_type": "code",
   "execution_count": null,
   "metadata": {},
   "outputs": [],
   "source": [
    "arguments = {\n",
    "    'clientID': clientID,\n",
    "    'sessionToken': session_json['sessionToken'],\n",
    "    'json': True,\n",
    "}\n",
    "\n",
    "arguments.update({\n",
    "    'userID': 'GARRETT',\n",
    "    'includeAccountability': True,\n",
    "    'includeAllowedCommands': True,\n",
    "})\n",
    "\n",
    "service = 'security'\n",
    "command = 'lookupUserInfo'\n",
    "\n",
    "do_more_specific_one(service=service, command=command, arguments=arguments)"
   ]
  },
  {
   "cell_type": "code",
   "execution_count": null,
   "metadata": {},
   "outputs": [],
   "source": [
    "arguments = {\n",
    "    'clientID': clientID,\n",
    "    'sessionToken': session_json['sessionToken'],\n",
    "    'json': True,\n",
    "}\n",
    "\n",
    "arguments.update({\n",
    "    'itemID': 31518100550437,\n",
    "    'browseSize': '15',\n",
    "})\n",
    "\n",
    "service = 'circulation'\n",
    "command = 'browseCallShelf'\n",
    "\n",
    "do_more_specific_one(service=service, command=command, arguments=arguments)"
   ]
  },
  {
   "cell_type": "code",
   "execution_count": null,
   "metadata": {},
   "outputs": [],
   "source": [
    "arguments = {\n",
    "    'clientID': clientID,\n",
    "    'sessionToken': session_json['sessionToken'],\n",
    "    'json': True,\n",
    "}\n",
    "\n",
    "arguments.update({\n",
    "    'itemID': 31518100550437,\n",
    "})\n",
    "\n",
    "service = 'circulation'\n",
    "command = 'lookupItemStatus'\n",
    "\n",
    "do_more_specific_one(service=service, command=command, arguments=arguments)"
   ]
  },
  {
   "cell_type": "code",
   "execution_count": null,
   "metadata": {},
   "outputs": [],
   "source": [
    "arguments = {\n",
    "    'clientID': clientID,\n",
    "    'sessionToken': session_json['sessionToken'],\n",
    "    'json': True,\n",
    "}\n",
    "\n",
    "arguments.update({\n",
    "    'browseType': 'COURSE_NAME',\n",
    "})\n",
    "\n",
    "service = 'reserve'\n",
    "command = 'browseReserve'\n",
    "\n",
    "do_more_specific_one(service=service, command=command, arguments=arguments)"
   ]
  },
  {
   "cell_type": "code",
   "execution_count": null,
   "metadata": {},
   "outputs": [],
   "source": [
    "# the course reserve lookup fails\n",
    "arguments = {\n",
    "    'clientID': clientID,\n",
    "    'sessionToken': session_json['sessionToken'],\n",
    "    'json': True,\n",
    "}\n",
    "\n",
    "arguments.update({\n",
    "    'userID': 'GARRETT',\n",
    "    'courseID': 'AAAS 2000',\n",
    "})\n",
    "service = 'reserve'\n",
    "command = 'lookupReserve'\n",
    "\n",
    "do_more_specific_one(service=service, command=command, arguments=arguments)"
   ]
  }
 ],
 "metadata": {
  "kernelspec": {
   "display_name": "Python 3",
   "language": "python",
   "name": "python3"
  },
  "language_info": {
   "codemirror_mode": {
    "name": "ipython",
    "version": 3
   },
   "file_extension": ".py",
   "mimetype": "text/x-python",
   "name": "python",
   "nbconvert_exporter": "python",
   "pygments_lexer": "ipython3",
   "version": "3.7.1"
  }
 },
 "nbformat": 4,
 "nbformat_minor": 2
}
