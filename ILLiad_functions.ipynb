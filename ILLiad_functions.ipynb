{
 "cells": [
  {
   "cell_type": "code",
   "execution_count": null,
   "metadata": {},
   "outputs": [],
   "source": [
    "import requests\n",
    "import json\n",
    "import getpass\n",
    "from urllib.parse import quote"
   ]
  },
  {
   "cell_type": "markdown",
   "metadata": {},
   "source": [
    "https://prometheus.atlas-sys.com/display/illiad/The+ILLiad+Web+Platform+API"
   ]
  },
  {
   "cell_type": "code",
   "execution_count": null,
   "metadata": {},
   "outputs": [],
   "source": [
    "def get_one(service, command, params):\n",
    "    url = f'https://louis.hosts.atlas-sys.com/ILLiadWebPlatform/{service}/{command}'\n",
    "    response = requests.get(url, headers=params)\n",
    "    print(response.url)\n",
    "    print(response.status_code)\n",
    "    print(response.text)"
   ]
  },
  {
   "cell_type": "code",
   "execution_count": null,
   "metadata": {},
   "outputs": [],
   "source": [
    "def do_one(service, command, params):\n",
    "    url = f'https://louis.hosts.atlas-sys.com/ILLiadWebPlatform/{service}/{command}'\n",
    "    response = requests.post(url, params=params)\n",
    "    print(response.url)\n",
    "    print(response.text)"
   ]
  },
  {
   "cell_type": "code",
   "execution_count": null,
   "metadata": {},
   "outputs": [],
   "source": [
    "params = {\n",
    "    'APIKey': getpass.getpass(),\n",
    "    'json': 'True',\n",
    "}\n",
    "\n",
    "\n",
    "service = 'SystemInfo'\n",
    "command = 'APIVersion'\n",
    "\n",
    "get_one(service, command, params)"
   ]
  },
  {
   "cell_type": "code",
   "execution_count": null,
   "metadata": {},
   "outputs": [],
   "source": [
    "service = 'SystemInfo'\n",
    "command = 'PlatformVersion'\n",
    "get_one(service, command, params)"
   ]
  },
  {
   "cell_type": "code",
   "execution_count": null,
   "metadata": {},
   "outputs": [],
   "source": [
    "service = 'SystemInfo'\n",
    "command = 'SecurePlatformVersion'\n",
    "get_one(service, command, params)"
   ]
  },
  {
   "cell_type": "markdown",
   "metadata": {},
   "source": [
    "Available commands:\n",
    "\n",
    "    Send Library Notification\n",
    "        HTTP Verb: POST\n",
    "        Authorization: Secured\n",
    "    Send User Notification\n",
    "        HTTP Verb: POST\n",
    "        Authorization: Secured\n",
    "    Send Transaction Notification\n",
    "        HTTP Verb: POST\n",
    "        Authorization: Secure\n",
    "    Retrieve SMS Details\n",
    "        Authorization: Secured\n",
    "    Retrieve Email Details\n",
    "        Authorization: Secured\n",
    "    Create User\n",
    "        HTTP Verb: POST\n",
    "        Authorization: Secured\n",
    "    Get user by external user id\n",
    "        HTTP Verb: GET\n",
    "        Authorization: Secured\n",
    "    Get user by username\n",
    "        HTTP Verb: GET\n",
    "        Authorization: Secured\n",
    "    Retrieve transaction note\n",
    "        HTTP Verb: GET\n",
    "        Authorization: Secured\n",
    "    Add transaction note to a transaction\n",
    "        HTTP Verb: POST\n",
    "        Authorization: Secured\n",
    "    Add transaction history entry to a transaction\n",
    "        HTTP Verb: POST\n",
    "        Authorization: Secured\n",
    "    Create a transaction request\n",
    "        HTTP Verb: POST\n",
    "        Authorization: Secured\n",
    "    Marking transaction unfilled\n",
    "        HTTP Verb: PUT\n",
    "        Authorization: Secured\n",
    "    Marking transaction filled\n",
    "        HTTP Verb: PUT\n",
    "        Authorization: Secured\n",
    "    Routing transaction request\n",
    "        HTTP Verb: PUT\n",
    "        Authorization: Secured\n",
    "    Retrieving Requests for User\n",
    "        Authorization: Secured\n",
    "    Retrieving Requests by Transaction Number\n",
    "        Authorization: Secured\n",
    "    Secure Platform Version\n",
    "        Authorization: Secured\n",
    "    PlatformVersion\n",
    "        Authorization: Public\n",
    "    API Version\n",
    "        Authorization: Public"
   ]
  },
  {
   "cell_type": "code",
   "execution_count": null,
   "metadata": {},
   "outputs": [],
   "source": []
  }
 ],
 "metadata": {
  "kernelspec": {
   "display_name": "Python 3",
   "language": "python",
   "name": "python3"
  },
  "language_info": {
   "codemirror_mode": {
    "name": "ipython",
    "version": 3
   },
   "file_extension": ".py",
   "mimetype": "text/x-python",
   "name": "python",
   "nbconvert_exporter": "python",
   "pygments_lexer": "ipython3",
   "version": "3.6.7"
  }
 },
 "nbformat": 4,
 "nbformat_minor": 2
}
