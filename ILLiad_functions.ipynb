{
 "cells": [
  {
   "cell_type": "code",
   "execution_count": null,
   "metadata": {},
   "outputs": [],
   "source": [
    "import requests\n",
    "import json\n",
    "import getpass\n",
    "from urllib.parse import quote"
   ]
  },
  {
   "cell_type": "markdown",
   "metadata": {},
   "source": [
    "https://prometheus.atlas-sys.com/display/illiad/The+ILLiad+Web+Platform+API"
   ]
  },
  {
   "cell_type": "code",
   "execution_count": null,
   "metadata": {},
   "outputs": [],
   "source": [
    "def get_one(service, command, params):\n",
    "    url = f'https://louis.hosts.atlas-sys.com/ILLiadWebPlatform/{service}/{command}'\n",
    "    response = requests.get(url, headers=params)\n",
    "    return response"
   ]
  },
  {
   "cell_type": "code",
   "execution_count": null,
   "metadata": {},
   "outputs": [],
   "source": [
    "def do_one(service, command, params):\n",
    "    url = f'https://louis.hosts.atlas-sys.com/ILLiadWebPlatform/{service}/{command}'\n",
    "    response = requests.post(url, params=params)\n",
    "    return response"
   ]
  },
  {
   "cell_type": "code",
   "execution_count": null,
   "metadata": {},
   "outputs": [],
   "source": [
    "params = {\n",
    "    'APIKey': getpass.getpass(),\n",
    "    'json': 'True',\n",
    "}\n",
    "\n",
    "\n",
    "service = 'SystemInfo'\n",
    "command = 'APIVersion'\n",
    "\n",
    "get_one(service, command, params)"
   ]
  },
  {
   "cell_type": "code",
   "execution_count": null,
   "metadata": {},
   "outputs": [],
   "source": [
    "service = 'SystemInfo'\n",
    "command = 'PlatformVersion'\n",
    "get_one(service, command, params)"
   ]
  },
  {
   "cell_type": "code",
   "execution_count": null,
   "metadata": {},
   "outputs": [],
   "source": [
    "service = 'SystemInfo'\n",
    "command = 'SecurePlatformVersion'\n",
    "get_one(service, command, params)"
   ]
  },
  {
   "cell_type": "code",
   "execution_count": null,
   "metadata": {},
   "outputs": [],
   "source": [
    "service = 'Transaction'\n",
    "command = '5198417'\n",
    "response = get_one(service, command, params)"
   ]
  },
  {
   "cell_type": "code",
   "execution_count": null,
   "metadata": {},
   "outputs": [],
   "source": [
    "import os\n",
    "csv_files = [os.path.join(root, file)\n",
    "             for root, dirs, files in os.walk('/home/raleigh/Desktop/JacobTextbookProject/Merged_Lists-No_Duplicates/')\n",
    "             for file in files\n",
    "             if os.path.splitext(file)[1] == '.csv'\n",
    "            ]"
   ]
  },
  {
   "cell_type": "code",
   "execution_count": null,
   "metadata": {},
   "outputs": [],
   "source": [
    "import csv\n",
    "transaction_nums = []\n",
    "\n",
    "def find_trans_nums(f):\n",
    "    file_trans_nums = []\n",
    "    spamreader = csv.reader(f, delimiter=',', quotechar='\"')\n",
    "    for num, row in enumerate(spamreader):\n",
    "        if num == 0:\n",
    "            transaction_column = row.index('ils_transaction_number')\n",
    "            continue\n",
    "        file_trans_nums.append(row[transaction_column])\n",
    "    return file_trans_nums\n",
    "\n",
    "for csvpath in csv_files:\n",
    "    with open(csvpath, 'r') as f:\n",
    "        transaction_nums.extend(find_trans_nums(f))\n",
    "\n"
   ]
  },
  {
   "cell_type": "code",
   "execution_count": null,
   "metadata": {},
   "outputs": [],
   "source": [
    "print(len(transaction_nums))"
   ]
  },
  {
   "cell_type": "code",
   "execution_count": null,
   "metadata": {
    "scrolled": true
   },
   "outputs": [],
   "source": [
    "full_response = dict()\n",
    "\n",
    "for i in transaction_nums:\n",
    "    response = get_one('Transaction', i, params)\n",
    "    parsed_response = json.loads(response.text)\n",
    "    if i not in full_response:\n",
    "        full_response[i] = parsed_response\n",
    "    else:\n",
    "        print(f\"duplicate transaction number {i}\")"
   ]
  },
  {
   "cell_type": "code",
   "execution_count": null,
   "metadata": {
    "scrolled": true
   },
   "outputs": [],
   "source": [
    "print(json.dumps(full_response['5268417']))"
   ]
  },
  {
   "cell_type": "code",
   "execution_count": null,
   "metadata": {},
   "outputs": [],
   "source": [
    "print(set(i['TransactionStatus'] for k, i in full_response.items()))"
   ]
  },
  {
   "cell_type": "code",
   "execution_count": null,
   "metadata": {},
   "outputs": [],
   "source": [
    "all_finished = set()\n",
    "\n",
    "for k, v in full_response.items():\n",
    "    if v['TransactionStatus'] == 'Request Finished':\n",
    "        all_finished.add(k)"
   ]
  },
  {
   "cell_type": "code",
   "execution_count": null,
   "metadata": {},
   "outputs": [],
   "source": [
    "len(all_finished)"
   ]
  },
  {
   "cell_type": "code",
   "execution_count": null,
   "metadata": {},
   "outputs": [],
   "source": []
  },
  {
   "cell_type": "code",
   "execution_count": null,
   "metadata": {},
   "outputs": [],
   "source": [
    "for i in all_finished:\n",
    "    print(i)\n",
    "    break"
   ]
  },
  {
   "cell_type": "code",
   "execution_count": null,
   "metadata": {},
   "outputs": [],
   "source": [
    "with open('/home/raleigh/Desktop/RequestFinished.csv', 'w', newline='') as csvfile:\n",
    "    spamwriter = csv.writer(csvfile, delimiter=',',\n",
    "                           quotechar='\"', quoting=csv.QUOTE_MINIMAL)\n",
    "    spamwriter.writerow([])"
   ]
  },
  {
   "cell_type": "code",
   "execution_count": null,
   "metadata": {},
   "outputs": [],
   "source": [
    "matches_fall_2015 = [5197574, 5197574, 5198417, 5198417, 5198417, 5198417, 5199628, 5199628, 5199628, 5199628, 5199628, 5199628, 5199630, 5199630, 5199630, 5199630, 5200243, 5200243, 5200243, 5200243, 5200492, 5200774, 5200774, 5200863, 5200863, 5200865, 5201041, 5201041, 5201335, 5201335, 5201645, 5202015, 5202015, 5202015, 5202015, 5202044, 5203664, 5203664, 5203664, 5203772, 5203772, 5203772, 5203772, 5204508, 5204508, 5204508, 5204508, 5204508, 5205478, 5205909, 5205909, 5205909, 5206413, 5206413, 5206426, 5206993, 5206993, 5206993, 5206993, 5206993, 5207152, 5207152, 5207152, 5207507, 5207507, 5207828, 5207828, 5207828, 5207928, 5207928, 5207928, 5207928, 5209499, 5209499, 5210365, 5210365, 5210365, 5210365, 5210365, 5214661, 5215666, 5215886, 5215886, 5216223, 5216223, 5216223, 5217569, 5217569, 5217569, 5217569, 5217848, 5217848, 5217848, 5217848, 5217861, 5217861, 5217861, 5217861, 5217861, 5218032, 5218032, 5218032, 5218032, 5218032, 5218032, 5219066, 5220986, 5222239, 5222239, 5223218, 5223218, 5223218, 5224483, 5224483, 5224483, 5224593, 5224593, 5229116, 5229116, 5229116, 5229116, ]"
   ]
  },
  {
   "cell_type": "code",
   "execution_count": null,
   "metadata": {},
   "outputs": [],
   "source": [
    "for i in matches_fall_2015:\n",
    "    if str(i) not in all_finished:\n",
    "        print(i)"
   ]
  },
  {
   "cell_type": "code",
   "execution_count": null,
   "metadata": {},
   "outputs": [],
   "source": []
  },
  {
   "cell_type": "markdown",
   "metadata": {},
   "source": [
    "Available commands:\n",
    "\n",
    "    Send Library Notification\n",
    "        HTTP Verb: POST\n",
    "        Authorization: Secured\n",
    "    Send User Notification\n",
    "        HTTP Verb: POST\n",
    "        Authorization: Secured\n",
    "    Send Transaction Notification\n",
    "        HTTP Verb: POST\n",
    "        Authorization: Secure\n",
    "    Retrieve SMS Details\n",
    "        Authorization: Secured\n",
    "    Retrieve Email Details\n",
    "        Authorization: Secured\n",
    "    Create User\n",
    "        HTTP Verb: POST\n",
    "        Authorization: Secured\n",
    "    Get user by external user id\n",
    "        HTTP Verb: GET\n",
    "        Authorization: Secured\n",
    "    Get user by username\n",
    "        HTTP Verb: GET\n",
    "        Authorization: Secured\n",
    "    Retrieve transaction note\n",
    "        HTTP Verb: GET\n",
    "        Authorization: Secured\n",
    "    Add transaction note to a transaction\n",
    "        HTTP Verb: POST\n",
    "        Authorization: Secured\n",
    "    Add transaction history entry to a transaction\n",
    "        HTTP Verb: POST\n",
    "        Authorization: Secured\n",
    "    Create a transaction request\n",
    "        HTTP Verb: POST\n",
    "        Authorization: Secured\n",
    "    Marking transaction unfilled\n",
    "        HTTP Verb: PUT\n",
    "        Authorization: Secured\n",
    "    Marking transaction filled\n",
    "        HTTP Verb: PUT\n",
    "        Authorization: Secured\n",
    "    Routing transaction request\n",
    "        HTTP Verb: PUT\n",
    "        Authorization: Secured\n",
    "    Retrieving Requests for User\n",
    "        Authorization: Secured\n",
    "    Retrieving Requests by Transaction Number\n",
    "        Authorization: Secured\n",
    "    Secure Platform Version\n",
    "        Authorization: Secured\n",
    "    PlatformVersion\n",
    "        Authorization: Public\n",
    "    API Version\n",
    "        Authorization: Public"
   ]
  },
  {
   "cell_type": "code",
   "execution_count": null,
   "metadata": {},
   "outputs": [],
   "source": []
  },
  {
   "cell_type": "code",
   "execution_count": null,
   "metadata": {},
   "outputs": [],
   "source": []
  }
 ],
 "metadata": {
  "kernelspec": {
   "display_name": "Python 3",
   "language": "python",
   "name": "python3"
  },
  "language_info": {
   "codemirror_mode": {
    "name": "ipython",
    "version": 3
   },
   "file_extension": ".py",
   "mimetype": "text/x-python",
   "name": "python",
   "nbconvert_exporter": "python",
   "pygments_lexer": "ipython3",
   "version": "3.7.1"
  }
 },
 "nbformat": 4,
 "nbformat_minor": 2
}
