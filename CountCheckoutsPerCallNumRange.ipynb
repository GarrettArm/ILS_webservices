{
 "cells": [
  {
   "cell_type": "markdown",
   "metadata": {},
   "source": [
    "#### Source data is output from BlueCloudAnalytics.  \n",
    "In BlueCloudAnalytics,\n",
    "  - Base Reports\n",
    "    - Checkouts By Date Range (SYM)\n",
    "      - specify the starting date and ending date\n",
    "      - save this output file as \"Revised Checkouts By Date Range (SYM).csv\"\n"
   ]
  },
  {
   "cell_type": "code",
   "execution_count": null,
   "metadata": {},
   "outputs": [],
   "source": []
  },
  {
   "cell_type": "code",
   "execution_count": null,
   "metadata": {},
   "outputs": [],
   "source": [
    "import requests\n",
    "import json\n",
    "import getpass\n",
    "import csv\n",
    "from collections import namedtuple\n",
    "from urllib.parse import quote"
   ]
  },
  {
   "cell_type": "markdown",
   "metadata": {},
   "source": [
    "### Parse CSV"
   ]
  },
  {
   "cell_type": "code",
   "execution_count": null,
   "metadata": {},
   "outputs": [],
   "source": [
    "def list_to_csv(output_filename, source_list):\n",
    "    with open(output_filename, 'w') as f:\n",
    "        for item in source_list:\n",
    "            headers = item.keys()\n",
    "            break\n",
    "        w = csv.DictWriter(f, headers)\n",
    "        w.writeheader()\n",
    "        for item_dict in source_list:\n",
    "            w.writerow(item_dict)\n",
    "            \n",
    "def parse_csv(filename):\n",
    "    item_list = list()\n",
    "    with open(filename, 'r', newline='', encoding='utf-8') as csvfile:\n",
    "        csvreader = csv.DictReader(csvfile)\n",
    "        for item in csvreader:\n",
    "            item_list.append(item)\n",
    "    return item_list"
   ]
  },
  {
   "cell_type": "code",
   "execution_count": null,
   "metadata": {},
   "outputs": [],
   "source": [
    "def remove_nonMiddletons(item_list):\n",
    "    new_list = list()\n",
    "    for row in item_list:\n",
    "        if row['Item Library Desc'] == 'Middleton Library (Main Collection)':\n",
    "            new_list.append(row)\n",
    "    return new_list"
   ]
  },
  {
   "cell_type": "code",
   "execution_count": null,
   "metadata": {},
   "outputs": [],
   "source": [
    "item_list = parse_csv('Revised Checkouts By Date Range (SYM).csv')\n",
    "item_list = remove_nonMiddletons(item_list)"
   ]
  },
  {
   "cell_type": "markdown",
   "metadata": {},
   "source": [
    "####  We enhance the BlueCloud output by adding a call number to each row.  The Symphony API can give us this info.  Here we hit the API with each item.  The response gets merged into the data for each item."
   ]
  },
  {
   "cell_type": "code",
   "execution_count": null,
   "metadata": {},
   "outputs": [],
   "source": [
    "def get_token():\n",
    "    baseWsURL = 'https://lalu.sirsi.net/lalu_ilsws/rest'\n",
    "    clientID = 'DS_CLIENT'\n",
    "    user = input('what is your Sirsi Workflow username? ')\n",
    "    password = getpass.getpass('what is your Sirsi Workflow password? ')\n",
    "    \n",
    "    login_endpoint = f\"{baseWsURL}/security/loginUser?clientID={clientID}&login={user}&password={password}&json=True\"\n",
    "\n",
    "    response = requests.post(login_endpoint)\n",
    "    response_json = json.loads(response.content)\n",
    "    return response_json['sessionToken']\n",
    "\n",
    "\n",
    "def check_connection(token):\n",
    "    url = f\"https://lalu.sirsi.net/lalu_ilsws/rest/security/lookupSessionInfo?clientID=DS_CLIENT&sessionToken={token}&json=True\"\n",
    "    response = requests.post(url)\n",
    "    print(response.text)\n",
    "\n",
    "\n",
    "def make_request(service, command, arguments):\n",
    "    url = f'https://lalu.sirsi.net/lalu_ilsws/rest/{service}/{command}'\n",
    "    response = requests.post(url, params=arguments)\n",
    "    return response.text\n",
    "\n",
    "\n",
    "def lookupItemStatus(itemID, token):\n",
    "    service = 'circulation'\n",
    "    command = 'lookupItemStatus'\n",
    "    arguments = {\n",
    "        'itemID': itemID,\n",
    "        'clientID': 'DS_CLIENT',\n",
    "        'sessionToken': token,\n",
    "        'json': True,\n",
    "    }\n",
    "    return make_request(service, command, arguments)\n",
    "\n",
    "\n",
    "token = get_token()\n",
    "check_connection(token)"
   ]
  },
  {
   "cell_type": "code",
   "execution_count": null,
   "metadata": {},
   "outputs": [],
   "source": [
    "for item in item_list:\n",
    "    api_response = lookupItemStatus(item['Item Barcode'], token)\n",
    "    api_dict = json.loads(api_response)\n",
    "    item.update(api_dict)"
   ]
  },
  {
   "cell_type": "code",
   "execution_count": null,
   "metadata": {},
   "outputs": [],
   "source": [
    "for item in item_list:\n",
    "    item['itemCheckoutInfo'] = \"\"\n",
    "    item['itemHoldInfo'] = \"\"\n",
    "    item['onreserveInfo'] = ''"
   ]
  },
  {
   "cell_type": "code",
   "execution_count": null,
   "metadata": {},
   "outputs": [],
   "source": [
    "list_to_csv(\"/home/raleigh/Desktop/FebRanges/plus_api.csv\", item_list)"
   ]
  },
  {
   "cell_type": "markdown",
   "metadata": {},
   "source": [
    "#### Manually remove the iPods, umbrellas, non-Middleton & other items we do not want to count.  Save this csv with the name \"Feb_call_numbers.csv\"."
   ]
  },
  {
   "cell_type": "code",
   "execution_count": null,
   "metadata": {},
   "outputs": [],
   "source": [
    "item_list = parse_csv('Feb_call_numbers.csv')"
   ]
  },
  {
   "cell_type": "code",
   "execution_count": null,
   "metadata": {},
   "outputs": [],
   "source": [
    "def count_in_range(start, end, item_list):\n",
    "    count = 0\n",
    "    for item in item_list:\n",
    "        if start <= item['callNumber'] <= end[:2]:\n",
    "            count += 1\n",
    "    return count"
   ]
  },
  {
   "cell_type": "code",
   "execution_count": null,
   "metadata": {},
   "outputs": [],
   "source": [
    "ranges = [\n",
    "    [\"051\", \"941\"],\n",
    "    ['B', 'BX'],\n",
    "    ['CB', 'CT'],\n",
    "    ['D', 'DT'],\n",
    "    ['E', 'F'],\n",
    "    ['G', 'GV'],\n",
    "    ['H', 'HX'],\n",
    "    ['JA', 'JZ'],\n",
    "    ['K', 'KJV'],\n",
    "    ['LA', 'LJ'],\n",
    "    ['N', 'NX'],\n",
    "    ['P', 'PZ'],\n",
    "    ['Q', 'QR'],\n",
    "    ['R', 'RS'],\n",
    "    ['S', 'SH'],\n",
    "    ['T', 'TX'],\n",
    "    ['U', 'UG'],\n",
    "    ['Z', 'ZA'],\n",
    "]\n",
    "\n",
    "for start, end in ranges:\n",
    "    print(f\"{start}\\t{end}\\t{count_in_range(start, end, item_list)}\")"
   ]
  }
 ],
 "metadata": {
  "kernelspec": {
   "display_name": "Python 3",
   "language": "python",
   "name": "python3"
  },
  "language_info": {
   "codemirror_mode": {
    "name": "ipython",
    "version": 3
   },
   "file_extension": ".py",
   "mimetype": "text/x-python",
   "name": "python",
   "nbconvert_exporter": "python",
   "pygments_lexer": "ipython3",
   "version": "3.7.3"
  }
 },
 "nbformat": 4,
 "nbformat_minor": 2
}
